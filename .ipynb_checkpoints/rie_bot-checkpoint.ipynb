{
 "cells": [
  {
   "cell_type": "code",
   "execution_count": 6,
   "id": "91ce9caf-462a-4319-b391-fd63337c2ce1",
   "metadata": {
    "collapsed": true,
    "jupyter": {
     "outputs_hidden": true
    },
    "tags": []
   },
   "outputs": [
    {
     "name": "stdout",
     "output_type": "stream",
     "text": [
      "Requirement already satisfied: line-bot-sdk in c:\\users\\81806\\appdata\\local\\programs\\python\\python38\\lib\\site-packages (2.3.0)\n",
      "Requirement already satisfied: aiohttp>=3.7.4 in c:\\users\\81806\\appdata\\local\\programs\\python\\python38\\lib\\site-packages (from line-bot-sdk) (3.8.3)\n",
      "Requirement already satisfied: future in c:\\users\\81806\\appdata\\local\\programs\\python\\python38\\lib\\site-packages (from line-bot-sdk) (0.18.2)\n",
      "Requirement already satisfied: requests>=2.0 in c:\\users\\81806\\appdata\\local\\programs\\python\\python38\\lib\\site-packages (from line-bot-sdk) (2.28.1)\n",
      "Requirement already satisfied: attrs>=17.3.0 in c:\\users\\81806\\appdata\\local\\programs\\python\\python38\\lib\\site-packages (from aiohttp>=3.7.4->line-bot-sdk) (22.1.0)\n",
      "Requirement already satisfied: frozenlist>=1.1.1 in c:\\users\\81806\\appdata\\local\\programs\\python\\python38\\lib\\site-packages (from aiohttp>=3.7.4->line-bot-sdk) (1.3.1)\n",
      "Requirement already satisfied: aiosignal>=1.1.2 in c:\\users\\81806\\appdata\\local\\programs\\python\\python38\\lib\\site-packages (from aiohttp>=3.7.4->line-bot-sdk) (1.2.0)\n",
      "Requirement already satisfied: yarl<2.0,>=1.0 in c:\\users\\81806\\appdata\\local\\programs\\python\\python38\\lib\\site-packages (from aiohttp>=3.7.4->line-bot-sdk) (1.8.1)\n",
      "Requirement already satisfied: async-timeout<5.0,>=4.0.0a3 in c:\\users\\81806\\appdata\\local\\programs\\python\\python38\\lib\\site-packages (from aiohttp>=3.7.4->line-bot-sdk) (4.0.2)\n",
      "Requirement already satisfied: multidict<7.0,>=4.5 in c:\\users\\81806\\appdata\\local\\programs\\python\\python38\\lib\\site-packages (from aiohttp>=3.7.4->line-bot-sdk) (6.0.2)\n",
      "Requirement already satisfied: charset-normalizer<3.0,>=2.0 in c:\\users\\81806\\appdata\\local\\programs\\python\\python38\\lib\\site-packages (from aiohttp>=3.7.4->line-bot-sdk) (2.1.1)\n",
      "Requirement already satisfied: certifi>=2017.4.17 in c:\\users\\81806\\appdata\\local\\programs\\python\\python38\\lib\\site-packages (from requests>=2.0->line-bot-sdk) (2022.9.24)\n",
      "Requirement already satisfied: urllib3<1.27,>=1.21.1 in c:\\users\\81806\\appdata\\local\\programs\\python\\python38\\lib\\site-packages (from requests>=2.0->line-bot-sdk) (1.26.12)\n",
      "Requirement already satisfied: idna<4,>=2.5 in c:\\users\\81806\\appdata\\local\\programs\\python\\python38\\lib\\site-packages (from requests>=2.0->line-bot-sdk) (3.4)\n",
      "Note: you may need to restart the kernel to use updated packages.\n"
     ]
    }
   ],
   "source": [
    "pip install line-bot-sdk"
   ]
  },
  {
   "cell_type": "code",
   "execution_count": 12,
   "id": "20007e88-29b3-43b3-a8d8-222f2ce59bbf",
   "metadata": {},
   "outputs": [],
   "source": [
    "import json"
   ]
  },
  {
   "cell_type": "code",
   "execution_count": 33,
   "id": "dce02d5c-2a77-4bdb-8a85-2b1e23009683",
   "metadata": {},
   "outputs": [],
   "source": [
    "file = open('info_j.json', 'r')"
   ]
  },
  {
   "cell_type": "code",
   "execution_count": 34,
   "id": "cf7c9429-89c5-4bea-8da3-325e25a89f78",
   "metadata": {},
   "outputs": [
    {
     "name": "stdout",
     "output_type": "stream",
     "text": [
      "<_io.TextIOWrapper name='info_j.json' mode='r' encoding='cp932'>\n"
     ]
    }
   ],
   "source": [
    "print(file)"
   ]
  },
  {
   "cell_type": "code",
   "execution_count": 35,
   "id": "48ddfed8-9ca2-42ed-9379-a1bc8f989594",
   "metadata": {},
   "outputs": [],
   "source": [
    "info = json.load(file)"
   ]
  },
  {
   "cell_type": "code",
   "execution_count": 39,
   "id": "b60cf6b0-6e62-4013-8129-dc1463dbd531",
   "metadata": {},
   "outputs": [
    {
     "name": "stdout",
     "output_type": "stream",
     "text": [
      "{'TOKEN': '7sId6bqX6NjXY4JVJklhFOF40yz5H37Qv8oi/7af6Tw6Q1nbublh9AZYLQJxHGleIvl4doeltEU7j17U2Fw4RuYehks9+PV8Dtp6pb9LOj47DB/qK+Jpw9HyF7IfnRcY3+QeHZPd6qp9bT1u4DFUm8/D1uEN9/', 'SECLET': '1c6e051751dd565bbc4e4bd102965a6c'}\n"
     ]
    }
   ],
   "source": [
    "print(info)"
   ]
  },
  {
   "cell_type": "code",
   "execution_count": 36,
   "id": "65bcfbd4-b7a3-4741-86df-a71338c5154a",
   "metadata": {
    "tags": []
   },
   "outputs": [],
   "source": [
    "from linebot import LineBotApi\n",
    "from linebot.models import TextSendMessage"
   ]
  },
  {
   "cell_type": "code",
   "execution_count": 37,
   "id": "1ed27830-64b3-492e-a46b-54df57e6a6d7",
   "metadata": {},
   "outputs": [],
   "source": [
    "token = info[\"TOKEN\"]\n",
    "line_bot_api = LineBotApi(token)"
   ]
  },
  {
   "cell_type": "code",
   "execution_count": 38,
   "id": "6439bfad-0e6b-44b6-8bca-6f9b7b396806",
   "metadata": {
    "tags": []
   },
   "outputs": [
    {
     "ename": "LineBotApiError",
     "evalue": "LineBotApiError: status_code=401, request_id=143585be-9b14-47f5-b583-27645f507c91, error_response={\"details\": [], \"message\": \"Authentication failed. Confirm that the access token in the authorization header is valid.\"}, headers={'cache-control': 'no-cache, no-store, max-age=0, must-revalidate', 'content-type': 'application/json', 'date': 'Fri, 28 Oct 2022 08:46:23 GMT', 'expires': '0', 'pragma': 'no-cache', 'server': 'envoy', 'www-authenticate': 'Bearer error=\"invalid_token\", error_description=\"invalid token\"', 'x-content-type-options': 'nosniff', 'x-frame-options': 'DENY', 'x-line-request-id': '143585be-9b14-47f5-b583-27645f507c91', 'x-xss-protection': '1; mode=block', 'content-length': '104'}",
     "output_type": "error",
     "traceback": [
      "\u001b[1;31m---------------------------------------------------------------------------\u001b[0m",
      "\u001b[1;31mLineBotApiError\u001b[0m                           Traceback (most recent call last)",
      "Cell \u001b[1;32mIn [38], line 7\u001b[0m\n\u001b[0;32m      4\u001b[0m     line_bot_api\u001b[38;5;241m.\u001b[39mpush_message(my_id, messages\u001b[38;5;241m=\u001b[39mtest_messages)\n\u001b[0;32m      6\u001b[0m \u001b[38;5;28;01mif\u001b[39;00m \u001b[38;5;18m__name__\u001b[39m \u001b[38;5;241m==\u001b[39m \u001b[38;5;124m\"\u001b[39m\u001b[38;5;124m__main__\u001b[39m\u001b[38;5;124m\"\u001b[39m:\n\u001b[1;32m----> 7\u001b[0m     \u001b[43mmain\u001b[49m\u001b[43m(\u001b[49m\u001b[43m)\u001b[49m\n",
      "Cell \u001b[1;32mIn [38], line 4\u001b[0m, in \u001b[0;36mmain\u001b[1;34m()\u001b[0m\n\u001b[0;32m      2\u001b[0m my_id \u001b[38;5;241m=\u001b[39m info[\u001b[38;5;124m\"\u001b[39m\u001b[38;5;124mSECLET\u001b[39m\u001b[38;5;124m\"\u001b[39m]\n\u001b[0;32m      3\u001b[0m test_messages \u001b[38;5;241m=\u001b[39m TextSendMessage(\u001b[38;5;124m\"\u001b[39m\u001b[38;5;124mこれはテストです。\u001b[39m\u001b[38;5;130;01m\\n\u001b[39;00m\u001b[38;5;124m 以上です。\u001b[39m\u001b[38;5;124m\"\u001b[39m)\n\u001b[1;32m----> 4\u001b[0m \u001b[43mline_bot_api\u001b[49m\u001b[38;5;241;43m.\u001b[39;49m\u001b[43mpush_message\u001b[49m\u001b[43m(\u001b[49m\u001b[43mmy_id\u001b[49m\u001b[43m,\u001b[49m\u001b[43m \u001b[49m\u001b[43mmessages\u001b[49m\u001b[38;5;241;43m=\u001b[39;49m\u001b[43mtest_messages\u001b[49m\u001b[43m)\u001b[49m\n",
      "File \u001b[1;32m~\\OneDrive\\デスクトップ\\【LINE API】\\RIE_local_site\\linebot\\api.py:163\u001b[0m, in \u001b[0;36mLineBotApi.push_message\u001b[1;34m(self, to, messages, retry_key, notification_disabled, custom_aggregation_units, timeout)\u001b[0m\n\u001b[0;32m    160\u001b[0m         custom_aggregation_units \u001b[38;5;241m=\u001b[39m [custom_aggregation_units]\n\u001b[0;32m    161\u001b[0m     data[\u001b[38;5;124m'\u001b[39m\u001b[38;5;124mcustomAggregationUnits\u001b[39m\u001b[38;5;124m'\u001b[39m] \u001b[38;5;241m=\u001b[39m custom_aggregation_units\n\u001b[1;32m--> 163\u001b[0m \u001b[38;5;28;43mself\u001b[39;49m\u001b[38;5;241;43m.\u001b[39;49m\u001b[43m_post\u001b[49m\u001b[43m(\u001b[49m\n\u001b[0;32m    164\u001b[0m \u001b[43m    \u001b[49m\u001b[38;5;124;43m'\u001b[39;49m\u001b[38;5;124;43m/v2/bot/message/push\u001b[39;49m\u001b[38;5;124;43m'\u001b[39;49m\u001b[43m,\u001b[49m\u001b[43m \u001b[49m\u001b[43mdata\u001b[49m\u001b[38;5;241;43m=\u001b[39;49m\u001b[43mjson\u001b[49m\u001b[38;5;241;43m.\u001b[39;49m\u001b[43mdumps\u001b[49m\u001b[43m(\u001b[49m\u001b[43mdata\u001b[49m\u001b[43m)\u001b[49m\u001b[43m,\u001b[49m\u001b[43m \u001b[49m\u001b[43mtimeout\u001b[49m\u001b[38;5;241;43m=\u001b[39;49m\u001b[43mtimeout\u001b[49m\n\u001b[0;32m    165\u001b[0m \u001b[43m\u001b[49m\u001b[43m)\u001b[49m\n",
      "File \u001b[1;32m~\\OneDrive\\デスクトップ\\【LINE API】\\RIE_local_site\\linebot\\api.py:1839\u001b[0m, in \u001b[0;36mLineBotApi._post\u001b[1;34m(self, path, endpoint, data, headers, timeout)\u001b[0m\n\u001b[0;32m   1833\u001b[0m headers\u001b[38;5;241m.\u001b[39mupdate(\u001b[38;5;28mself\u001b[39m\u001b[38;5;241m.\u001b[39mheaders)\n\u001b[0;32m   1835\u001b[0m response \u001b[38;5;241m=\u001b[39m \u001b[38;5;28mself\u001b[39m\u001b[38;5;241m.\u001b[39mhttp_client\u001b[38;5;241m.\u001b[39mpost(\n\u001b[0;32m   1836\u001b[0m     url, headers\u001b[38;5;241m=\u001b[39mheaders, data\u001b[38;5;241m=\u001b[39mdata, timeout\u001b[38;5;241m=\u001b[39mtimeout\n\u001b[0;32m   1837\u001b[0m )\n\u001b[1;32m-> 1839\u001b[0m \u001b[38;5;28;43mself\u001b[39;49m\u001b[38;5;241;43m.\u001b[39;49m\u001b[43m__check_error\u001b[49m\u001b[43m(\u001b[49m\u001b[43mresponse\u001b[49m\u001b[43m)\u001b[49m\n\u001b[0;32m   1840\u001b[0m \u001b[38;5;28;01mreturn\u001b[39;00m response\n",
      "File \u001b[1;32m~\\OneDrive\\デスクトップ\\【LINE API】\\RIE_local_site\\linebot\\api.py:1875\u001b[0m, in \u001b[0;36mLineBotApi.__check_error\u001b[1;34m(response)\u001b[0m\n\u001b[0;32m   1873\u001b[0m     \u001b[38;5;28;01mpass\u001b[39;00m\n\u001b[0;32m   1874\u001b[0m \u001b[38;5;28;01melse\u001b[39;00m:\n\u001b[1;32m-> 1875\u001b[0m     \u001b[38;5;28;01mraise\u001b[39;00m LineBotApiError(\n\u001b[0;32m   1876\u001b[0m         status_code\u001b[38;5;241m=\u001b[39mresponse\u001b[38;5;241m.\u001b[39mstatus_code,\n\u001b[0;32m   1877\u001b[0m         headers\u001b[38;5;241m=\u001b[39m\u001b[38;5;28mdict\u001b[39m(response\u001b[38;5;241m.\u001b[39mheaders\u001b[38;5;241m.\u001b[39mitems()),\n\u001b[0;32m   1878\u001b[0m         request_id\u001b[38;5;241m=\u001b[39mresponse\u001b[38;5;241m.\u001b[39mheaders\u001b[38;5;241m.\u001b[39mget(\u001b[38;5;124m'\u001b[39m\u001b[38;5;124mX-Line-Request-Id\u001b[39m\u001b[38;5;124m'\u001b[39m),\n\u001b[0;32m   1879\u001b[0m         accepted_request_id\u001b[38;5;241m=\u001b[39mresponse\u001b[38;5;241m.\u001b[39mheaders\u001b[38;5;241m.\u001b[39mget(\u001b[38;5;124m'\u001b[39m\u001b[38;5;124mX-Line-Accepted-Request-Id\u001b[39m\u001b[38;5;124m'\u001b[39m),\n\u001b[0;32m   1880\u001b[0m         error\u001b[38;5;241m=\u001b[39mError\u001b[38;5;241m.\u001b[39mnew_from_json_dict(response\u001b[38;5;241m.\u001b[39mjson)\n\u001b[0;32m   1881\u001b[0m     )\n",
      "\u001b[1;31mLineBotApiError\u001b[0m: LineBotApiError: status_code=401, request_id=143585be-9b14-47f5-b583-27645f507c91, error_response={\"details\": [], \"message\": \"Authentication failed. Confirm that the access token in the authorization header is valid.\"}, headers={'cache-control': 'no-cache, no-store, max-age=0, must-revalidate', 'content-type': 'application/json', 'date': 'Fri, 28 Oct 2022 08:46:23 GMT', 'expires': '0', 'pragma': 'no-cache', 'server': 'envoy', 'www-authenticate': 'Bearer error=\"invalid_token\", error_description=\"invalid token\"', 'x-content-type-options': 'nosniff', 'x-frame-options': 'DENY', 'x-line-request-id': '143585be-9b14-47f5-b583-27645f507c91', 'x-xss-protection': '1; mode=block', 'content-length': '104'}"
     ]
    }
   ],
   "source": [
    "def main():\n",
    "    my_id = info[\"SECLET\"]\n",
    "    test_messages = TextSendMessage(\"これはテストです。\\n 以上です。\")\n",
    "    line_bot_api.push_message(my_id, messages=test_messages)\n",
    "    \n",
    "if __name__ == \"__main__\":\n",
    "    main()"
   ]
  },
  {
   "cell_type": "code",
   "execution_count": null,
   "id": "1067792f-880e-4c15-acd2-9f61da5f5f2e",
   "metadata": {},
   "outputs": [],
   "source": []
  }
 ],
 "metadata": {
  "kernelspec": {
   "display_name": "Python 3 (ipykernel)",
   "language": "python",
   "name": "python3"
  },
  "language_info": {
   "codemirror_mode": {
    "name": "ipython",
    "version": 3
   },
   "file_extension": ".py",
   "mimetype": "text/x-python",
   "name": "python",
   "nbconvert_exporter": "python",
   "pygments_lexer": "ipython3",
   "version": "3.8.5"
  }
 },
 "nbformat": 4,
 "nbformat_minor": 5
}
